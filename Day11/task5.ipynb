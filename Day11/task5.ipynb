{
 "cells": [
  {
   "cell_type": "markdown",
   "metadata": {},
   "source": [
    "datetime 모듈을 사용하여 현재 날짜와 시간을 출력하는 프로그램을 작성하세요. \n",
    "\n",
    "또한, 사용자로부터 태어난 년도를 입력받아 현재 나이를 계산하여 출력하세요."
   ]
  },
  {
   "cell_type": "code",
   "execution_count": 8,
   "metadata": {},
   "outputs": [
    {
     "name": "stdout",
     "output_type": "stream",
     "text": [
      "현재 날짜와 시간: 2025-04-24 15:28:00\n",
      "당신의 나이는 148세입니다.\n",
      "현재 나이는148세입니다.\n"
     ]
    }
   ],
   "source": [
    "import datetime\n",
    "\n",
    "def calculate_age():\n",
    "    # 현재 날짜와 시간 출력\n",
    "    now = datetime.datetime.now()\n",
    "    print(f\"현재 날짜와 시간: {now.strftime('%Y-%m-%d %H:%M:%S')}\")\n",
    "\n",
    "    try:\n",
    "        birth_date = input(\"태어난 년도를 입력하세요\")\n",
    "        current_year = now.year\n",
    "        age = current_year - int(birth_date) + 1 #한국나이 +1 해줌 ㅋ\n",
    "        print(f\"당신의 나이는 {age}세입니다.\")\n",
    "\n",
    "        if age < 0:\n",
    "            print(\"미래에서 오셨군요!\")\n",
    "        else:\n",
    "            print(f\"현재 나이는{age}세입니다.\")\n",
    "    except ValueError:\n",
    "        print(\"잘못된 입력입니다. 숫자를 입력하세요.\")\n",
    "\n",
    "calculate_age()"
   ]
  },
  {
   "cell_type": "code",
   "execution_count": null,
   "metadata": {},
   "outputs": [],
   "source": []
  }
 ],
 "metadata": {
  "kernelspec": {
   "display_name": "Python 3",
   "language": "python",
   "name": "python3"
  },
  "language_info": {
   "codemirror_mode": {
    "name": "ipython",
    "version": 3
   },
   "file_extension": ".py",
   "mimetype": "text/x-python",
   "name": "python",
   "nbconvert_exporter": "python",
   "pygments_lexer": "ipython3",
   "version": "3.13.3"
  }
 },
 "nbformat": 4,
 "nbformat_minor": 2
}
