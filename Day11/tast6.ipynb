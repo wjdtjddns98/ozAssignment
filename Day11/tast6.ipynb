{
 "cells": [
  {
   "cell_type": "markdown",
   "metadata": {},
   "source": [
    "requests 모듈을 사용하여, 웹 페이지의 HTML을 가져오는 간단한 웹 스크레이퍼를 작성하세요.\n",
    "\n",
    "'https://kream.co.kr/'에서<br> \n",
    "데이터를 가져와서 상태 코드와 HTML의 첫 100자를 출력하세요.<br>\n",
    "(실습 전 requests 모듈을 설치해야 함)"
   ]
  },
  {
   "cell_type": "code",
   "execution_count": null,
   "metadata": {},
   "outputs": [
    {
     "name": "stdout",
     "output_type": "stream",
     "text": [
      "HTTP 상태 코드: 200\n",
      "HTML의 첫 100자:\n",
      "   <!doctype html> <html lang=\"ko\" class=\"fzoom\"> <head> <meta charset=\"utf-8\"> <meta name=\"Referrer\n"
     ]
    }
   ],
   "source": [
    "import requests\n",
    "\n",
    "def kream():\n",
    "    url = \"https://www.naver.com/\"\n",
    "    try:\n",
    "        # 웹 페이지 요청\n",
    "        response = requests.get(url)\n",
    "        \n",
    "        # 상태 코드 출력\n",
    "        print(f\"HTTP 상태 코드: {response.status_code}\")\n",
    "        \n",
    "        if response.status_code == 200:\n",
    "            print(\"HTML의 첫 100자:\")\n",
    "            print(response.text[:100])\n",
    "        else:\n",
    "            print(\"요청이 성공하지 않았습니다.\")\n",
    "    except requests.exceptions.RequestException as e:\n",
    "        print(f\"요청 중 오류가 발생했습니다: {e}\")\n",
    "\n",
    "kream()\n",
    "\n",
    "#크림 서버오류때문에 naver.com으로 대체"
   ]
  },
  {
   "cell_type": "code",
   "execution_count": null,
   "metadata": {},
   "outputs": [],
   "source": []
  }
 ],
 "metadata": {
  "kernelspec": {
   "display_name": "Python 3",
   "language": "python",
   "name": "python3"
  },
  "language_info": {
   "codemirror_mode": {
    "name": "ipython",
    "version": 3
   },
   "file_extension": ".py",
   "mimetype": "text/x-python",
   "name": "python",
   "nbconvert_exporter": "python",
   "pygments_lexer": "ipython3",
   "version": "3.13.3"
  }
 },
 "nbformat": 4,
 "nbformat_minor": 2
}
