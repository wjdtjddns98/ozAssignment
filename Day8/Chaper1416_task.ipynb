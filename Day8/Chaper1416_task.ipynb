{
 "cells": [
  {
   "cell_type": "code",
   "execution_count": null,
   "metadata": {},
   "outputs": [],
   "source": []
  },
  {
   "cell_type": "markdown",
   "metadata": {
    "id": "BX7SgOeWu86I"
   },
   "source": [
    "안녕하세요. 수강생 여러분~! Chapter14 ~ 16 수업은 잘 들으셨나요?\n",
    "\n",
    "Chapter14 ~ 16의 수업 내용을 바탕으로 아래 문제를 풀어주시면 됩니다.\n",
    "\n",
    "<br>\n",
    "\n",
    "\n",
    "[**답변 입력 방법**]\n",
    "\n",
    "문제 아래에 있는 코드 입력창에 정답코드를 작성하신 후  __▷ 버튼을 클릭해 코드를 실행__ 해보세요<br>"
   ]
  },
  {
   "cell_type": "markdown",
   "metadata": {},
   "source": [
    "---"
   ]
  },
  {
   "cell_type": "markdown",
   "metadata": {
    "id": "7kQJMRuFu-6s"
   },
   "source": [
    "__[문제1]__\n",
    "\n",
    "주어진 정수 2와 자연수 5을 이용해, 2부터 시작해 2씩 증가하는 숫자를 5개 지니는 리스트를 출력해주세요\n",
    "<br>\n",
    "\n",
    "x = 2, n =5\n",
    "\n",
    "정답 = [2, 4, 6, 8, 10]\n",
    "range(1, n+1)"
   ]
  },
  {
   "cell_type": "code",
   "execution_count": 18,
   "metadata": {
    "id": "juUF2KYbu0DX"
   },
   "outputs": [
    {
     "name": "stdout",
     "output_type": "stream",
     "text": [
      "[2, 4, 6, 8, 10]\n",
      "[2, 4, 6, 8, 10]\n"
     ]
    }
   ],
   "source": [
    "#x = 2, n = 5 를 선언해 x 부터 시작(2) x씩 증가하는(2) 숫자를 n개(5) 출력하는 코드\n",
    "#2부터 시작해 2씩증가하는 코드를 5개 출력\n",
    "x = 2\n",
    "n = 5\n",
    "\n",
    "numbers = [] #numbers라는 빈 리스트를 생성\n",
    "\n",
    "for i in range(1, n+1): #1번부터 n번까지 (index 1번부터 5번까지 돌림) \n",
    "    numbers.append(i * x) #빈 리스트에 배열을 넣어줌\n",
    "\n",
    "#리스트 컴프리헨션을 사용하여 간결하게 출력력\n",
    "result = [x * i for i in range(1,n+1)]\n",
    "\n",
    "print(result)\n",
    "print(numbers)\n",
    "\n",
    "\n"
   ]
  },
  {
   "cell_type": "markdown",
   "metadata": {},
   "source": [
    "---"
   ]
  },
  {
   "cell_type": "markdown",
   "metadata": {
    "id": "4BPXMLXUvBVL"
   },
   "source": [
    "__[문제2]__\n",
    "\n",
    "전화번호가 문자열 phone_number로 주어졌을 때, 전화번호의 뒷 4자리를 *으로 가린 문자열이 출력되도록 코드를 작성해주세요\n",
    "\n",
    "phone_number = \"01012347890\"  \n",
    "<br>\n",
    "\n",
    "출력 예) \"0101234****\""
   ]
  },
  {
   "cell_type": "code",
   "execution_count": null,
   "metadata": {
    "id": "P0fY7CYUvC_j"
   },
   "outputs": [
    {
     "name": "stdout",
     "output_type": "stream",
     "text": [
      "0101234****\n",
      "0101234****\n"
     ]
    }
   ],
   "source": [
    "phone_number = \"01012347890\"\n",
    "\n",
    "#slice를 사용해 전화번호의 4자리를 가리고, 가린 4자리는 문자열로 대체 (****)\n",
    "hidden_number = phone_number[:-4] + '****'\n",
    "\n",
    "#for문을 이용해 풀이\n",
    "new_number = \"\"\n",
    "for i in phone_number[:-4]:\n",
    "    new_number += i\n",
    "\n",
    "print(new_number + \"****\")\n",
    "print(hidden_number)"
   ]
  },
  {
   "cell_type": "markdown",
   "metadata": {},
   "source": [
    "---"
   ]
  },
  {
   "cell_type": "markdown",
   "metadata": {
    "id": "uUdOU9cFvDsq"
   },
   "source": [
    "__[문제3]__\n",
    "\n",
    "숫자를 건넬 때 일부 자릿수를 영단어로 바꾼 카드를 건네주면 프로도는 원래 숫자를 찾는 게임입니다.\n",
    "\n",
    "다음은 숫자의 일부 자릿수를 영단어로 바꾸는 예시입니다.\n",
    "\n",
    "1478 → \"one4seveneight\"  \n",
    "234567 → \"23four5six7\"  \n",
    "10203 → \"1zerotwozero3\"    \n",
    "\n",
    "이렇게 숫자의 일부 자릿수가 영단어로 바뀌어졌거나,   \n",
    "혹은 바뀌지 않고 그대로인 문자열 s가 주어졌을때\n",
    "s가 의미하는 원래 숫자를 출력하도록 코드를 작성해주세요\n",
    "\n",
    "s = \"77three4one\n",
    "\n",
    "---\n",
    "참고로 각 숫자에 대응되는 영단어는 다음 표와 같습니다.\n",
    "\n",
    "숫자\t영단어  \n",
    "0\tzero  \n",
    "1\tone  \n",
    "2\ttwo  \n",
    "3\tthree  \n",
    "4\tfour  \n",
    "5\tfive  \n",
    "6\tsix  \n",
    "7\tseven  \n",
    "8\teight  \n",
    "9\tnine  "
   ]
  },
  {
   "cell_type": "code",
   "execution_count": null,
   "metadata": {
    "id": "2NmqRFgDvFtz"
   },
   "outputs": [
    {
     "name": "stdout",
     "output_type": "stream",
     "text": [
      "77341\n"
     ]
    }
   ],
   "source": [
    "s = \"77three4one\"\n",
    "\n",
    "num_str = {\n",
    "    '0': 'zero',\n",
    "    '1': 'one',\n",
    "    '2': 'two',\n",
    "    '3': 'three',\n",
    "    '4': 'four',\n",
    "    '5': 'five',\n",
    "    '6': 'six',\n",
    "    '7': 'seven',\n",
    "    '8': 'eight',\n",
    "    '9': 'nine'\n",
    "    #'num' : 'word'\n",
    "    }\n",
    "\n",
    "for num, word in num_str.items():\n",
    "    s = s.replace(word, num)   # s.replace(바꾸고 싶은것, 새로 넣을것)\n",
    "print(s)"
   ]
  },
  {
   "cell_type": "markdown",
   "metadata": {},
   "source": [
    "---"
   ]
  },
  {
   "cell_type": "markdown",
   "metadata": {
    "id": "J0Tha6AdvGL3"
   },
   "source": [
    "__[문제4]__\n",
    "\n",
    "행렬의 덧셈은 행과 열의 크기가 같은 두 행렬의 같은 행, 같은 열의 값을 서로 더한 결과가 됩니다. \n",
    "\n",
    " 행렬 arr1과 arr2가 주어졌을 때, 행렬 덧셈의 결과를 출력하는 코드를 작성해주세요(result와 같은 결과가 출력되도록 작성)\n",
    "\n",
    "arr1 = [[1,2],[2,3]]\n",
    "\n",
    "arr2 = [[3,4],[5,6]]\n",
    "\n",
    "result = [[4,6],[7,9]]"
   ]
  },
  {
   "cell_type": "code",
   "execution_count": null,
   "metadata": {
    "id": "ujiXrEhJvIV0"
   },
   "outputs": [
    {
     "name": "stdout",
     "output_type": "stream",
     "text": [
      "result = [[4, 6], [7, 9]]\n",
      "result=[[4, 6], [7, 9]]\n"
     ]
    }
   ],
   "source": [
    "arr1 = [[1,2],[2,3]]\n",
    "arr2 = [[3,4],[5,6]]\n",
    "\n",
    "#리스트 컴프리헨션을 사용하여 한줄로 간결하게 작성\n",
    "result = [[arr1[i][j] + arr2[i][j] for j in range(len(arr1[0]))] for i in range(len(arr1))]\n",
    "\n",
    "print(f'result = {result}')\n",
    "\n",
    "#2중 for문을 사용하여 작성\n",
    "array_list = []\n",
    "for i in range(len(arr1)):\n",
    "    for j in range(len(arr1[0])):\n",
    "        arr1[i][j] += arr2[i][j]\n",
    "print(f'result={arr1}')\n"
   ]
  },
  {
   "cell_type": "markdown",
   "metadata": {
    "id": "eLdrWVkavJEN"
   },
   "source": [
    "__[문제5]__\n",
    "\n",
    "양의 정수 x가 하샤드 수이려면 x의 자릿수의 합으로 x가 나누어져야 합니다.   \n",
    "예를 들어 18의 자릿수 합은 1+8=9이고, 18은 9로 나누어 떨어지므로 18은 하샤드 수입니다.   \n",
    "주어진 x를 이용해 x가 하샤드 수인지 아닌지 검사하는 코드를 작성해주세요\n",
    "\n",
    "\n",
    "입출력 예시\n",
    "x\t결과값  \n",
    "10\ttrue  \n",
    "12\ttrue  \n",
    "11\tfalse  \n",
    "13\tfalse  "
   ]
  },
  {
   "cell_type": "code",
   "execution_count": 76,
   "metadata": {
    "id": "EULD-IOrvKmG"
   },
   "outputs": [
    {
     "name": "stdout",
     "output_type": "stream",
     "text": [
      "결과값 : False\n",
      "결과값 : False\n",
      "결과값 : False\n"
     ]
    }
   ],
   "source": [
    "x = 17\n",
    "\n",
    "#sum내장함수를 이용해 str(x)로 x를 문자열로 변환후 각 자리수를 더해줌\n",
    "#ex) 17이라면 첫번째 반환받은 문자열을 int로 형변환시켜 sum(int(digit)에 1을 넣고, 두번째 sum(int(digit)에 7을 넣어줌\n",
    "#그래서 sum1 = 8을 리턴해줌\n",
    "\n",
    "#Case 1 제너레이터 표현식 사용\n",
    "sum1 = sum(int(digit) for digit in str(x))\n",
    "\n",
    "harshad = x % sum1 == 0\n",
    "\n",
    "#Case 2 기본적인 for문 사용\n",
    "\n",
    "sum2 = 0 #sum2의 값을 0으로 초기화\n",
    "\n",
    "for n in str(x):\n",
    "    sum2 += int(n)\n",
    "harshad2 = x % sum2 == 0\n",
    "\n",
    "#따로 구글링으로 찾아본 결과 sum 함수는 제너레이터 표현식을 사용하는게 메모리 효율면에서 좋다고 하여 \n",
    "#리스트 컴프리헨션은 사용하지 않았습니다\n",
    "\n",
    "print(f'결과값 : {harshad}')\n",
    "print(f'결과값 : {harshad2}')\n",
    "\n",
    "#결과값을 if, else문을 사용해 True, False로 출력\n",
    "if harshad:\n",
    "    print(\"결과값 : True\")\n",
    "else:\n",
    "    print(\"결과값 : False\")\n"
   ]
  },
  {
   "cell_type": "markdown",
   "metadata": {},
   "source": [
    "---"
   ]
  },
  {
   "cell_type": "markdown",
   "metadata": {
    "id": "GeS6hZhivLMZ"
   },
   "source": [
    "__[문제6]__\n",
    "\n",
    "String형 배열 seoul의 element중 \"Kim\"의 인덱스 x를 찾아, \"김서방은 x에 있다\"는 String을 출력하는 코드를 작성해주세요.   \n",
    "\n",
    "seoul에 \"Kim\"은 오직 한 번만 나타나며 잘못된 값이 입력되는 경우는 없습니다.\n",
    "\n",
    "seoul = [\"Jane\", \"Kim\"]\n",
    "\n",
    "<br>\n",
    "출력 예) \"김서방은 1에 있다\""
   ]
  },
  {
   "cell_type": "code",
   "execution_count": null,
   "metadata": {
    "id": "e4LXat3BvRRg"
   },
   "outputs": [
    {
     "name": "stdout",
     "output_type": "stream",
     "text": [
      "김서방은 1에 있다\n",
      "김서방은 1에 있다\n",
      "김서방은 Kim에 있다\n"
     ]
    }
   ],
   "source": [
    "#인덱스를 사용해 Kim을 찾는 방식\n",
    "seoul = [\"Jame\", \"Kim\"]\n",
    "index = seoul.index(\"Kim\")\n",
    "\n",
    "print(f\"김서방은 {index}에 있다\")\n",
    "\n",
    "#for문을 사용해 Kim을 찾는 방식\n",
    "for i in range(len(seoul)):\n",
    "    if seoul[i] == \"Kim\":\n",
    "        print(f\"김서방은 {i}에 있다\")\n",
    "\n",
    "\n",
    "#if문을 사용해 Kim을 찾는 방식\n",
    "for i in seoul:\n",
    "    if i == \"Kim\":\n",
    "        print(f\"김서방은 {seoul.index(i)}에 있다\")\n"
   ]
  },
  {
   "cell_type": "markdown",
   "metadata": {},
   "source": [
    "---"
   ]
  },
  {
   "cell_type": "markdown",
   "metadata": {
    "id": "iZjKl-ZqvOkm"
   },
   "source": [
    "__[문제7]__\n",
    "\n",
    "0부터 9까지의 숫자 중 일부가 들어있는 정수 배열 numbers가 주어집니다.   \n",
    "numbers에서 찾을 수 없는 0부터 9까지의 숫자를 모두 찾아 더한 수를 출력해주세요\n",
    "\n",
    "numbers = [5,8,1,0,6,9]"
   ]
  },
  {
   "cell_type": "code",
   "execution_count": null,
   "metadata": {},
   "outputs": [
    {
     "name": "stdout",
     "output_type": "stream",
     "text": [
      "없는 숫자의 합 : 16\n",
      "없는 숫자의 합 : 16\n"
     ]
    }
   ],
   "source": [
    "numbers = [5, 8, 1, 0, 6, 9]\n",
    "\n",
    "# 0부터 9까지의 숫자 집합\n",
    "all_numbers = set(range(10))\n",
    "\n",
    "# numbers에 없는 숫자 찾기\n",
    "missing_numbers = all_numbers - set(numbers)\n",
    "\n",
    "# 없는 숫자의 합 계산\n",
    "result = sum(missing_numbers)\n",
    "\n",
    "# 결과 출력\n",
    "print(f'없는 숫자의 합 : {result}')\n",
    "\n",
    "#for문과 if문 사용\n",
    "numbers = [5, 8, 1, 0, 6, 9]\n",
    "result = 0\n",
    "\n",
    "for i in range(10):  # 0부터 9까지 반복\n",
    "    if i not in numbers:  #in 말고 not in 도 사용 가능\n",
    "        result += i      # 결과에 더하기\n",
    "\n",
    "print(f'없는 숫자의 합 : {result}')\n"
   ]
  }
 ],
 "metadata": {
  "colab": {
   "authorship_tag": "ABX9TyMLQjyUmELFyKkx1AyovOFZ",
   "provenance": []
  },
  "kernelspec": {
   "display_name": "Python 3",
   "name": "python3"
  },
  "language_info": {
   "codemirror_mode": {
    "name": "ipython",
    "version": 3
   },
   "file_extension": ".py",
   "mimetype": "text/x-python",
   "name": "python",
   "nbconvert_exporter": "python",
   "pygments_lexer": "ipython3",
   "version": "3.13.3"
  }
 },
 "nbformat": 4,
 "nbformat_minor": 0
}
