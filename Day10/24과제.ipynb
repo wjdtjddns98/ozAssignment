{
 "cells": [
  {
   "cell_type": "markdown",
   "metadata": {},
   "source": [
    "사용자의 이름, 나이, 성별을 출력하는 함수 print_info를 작성하세요. 이 때, 모든 매개변수는 키워드 매개변수로만 받도록 하세요."
   ]
  },
  {
   "cell_type": "code",
   "execution_count": 7,
   "metadata": {},
   "outputs": [
    {
     "name": "stdout",
     "output_type": "stream",
     "text": [
      "이름: 정성운, 나이: 28, 성별: 포크레인\n"
     ]
    }
   ],
   "source": [
    "def print_info(*, name, age, sex): #*를 사용하여 키워드 매개변수로 지정\n",
    "    print(f\"이름: {name}, 나이: {age}, 성별: {sex}\")\n",
    "\n",
    "# 사용자 입력 처리\n",
    "user_input = input(\"이름, 나이, 성별을 입력하세요 (띄어쓰기로 구분): \").split()\n",
    "name, age, sex = user_input[0], user_input[1], user_input[2]\n",
    "\n",
    "# 함수 호출 (키워드 매개변수로 전달)\n",
    "print_info(name=name, age=age, sex=sex)\n"
   ]
  }
 ],
 "metadata": {
  "kernelspec": {
   "display_name": "Python 3",
   "language": "python",
   "name": "python3"
  },
  "language_info": {
   "codemirror_mode": {
    "name": "ipython",
    "version": 3
   },
   "file_extension": ".py",
   "mimetype": "text/x-python",
   "name": "python",
   "nbconvert_exporter": "python",
   "pygments_lexer": "ipython3",
   "version": "3.13.3"
  }
 },
 "nbformat": 4,
 "nbformat_minor": 2
}
