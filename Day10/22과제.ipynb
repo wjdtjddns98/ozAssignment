{
 "cells": [
  {
   "cell_type": "markdown",
   "metadata": {},
   "source": [
    "여러 숫자를 입력받아 그 합계를 반환하는 함수 sum_numbers를 작성하세요. 이 때, 가변 매개변수를 사용하세요."
   ]
  },
  {
   "cell_type": "code",
   "execution_count": 14,
   "metadata": {},
   "outputs": [
    {
     "name": "stdout",
     "output_type": "stream",
     "text": [
      "합계: 0\n"
     ]
    }
   ],
   "source": [
    "def sum_numbers(*numbers):\n",
    "    return sum(numbers)\n",
    "\n",
    "user_input = input(\"숫자들을 공백으로 구분하여 입력하세요: \")\n",
    "numbers = map(int, user_input.split()) #sum()은 int나 float만 가능하므로 int로 변환\n",
    "result = sum_numbers(*numbers)\n",
    "print(\"합계:\", result)"
   ]
  }
 ],
 "metadata": {
  "kernelspec": {
   "display_name": "Python 3",
   "language": "python",
   "name": "python3"
  },
  "language_info": {
   "codemirror_mode": {
    "name": "ipython",
    "version": 3
   },
   "file_extension": ".py",
   "mimetype": "text/x-python",
   "name": "python",
   "nbconvert_exporter": "python",
   "pygments_lexer": "ipython3",
   "version": "3.13.3"
  }
 },
 "nbformat": 4,
 "nbformat_minor": 2
}
