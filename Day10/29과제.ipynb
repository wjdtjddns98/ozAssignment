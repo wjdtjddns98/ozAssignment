{
 "cells": [
  {
   "cell_type": "markdown",
   "metadata": {},
   "source": [
    "주어진 숫자가 짝수인지 확인하는 함수 is_even을 작성하세요. 짝수라면 True를, 아니라면 False를 반환하세요. 함수 내에서 조기 리턴을 활용하세요."
   ]
  },
  {
   "cell_type": "code",
   "execution_count": null,
   "metadata": {},
   "outputs": [],
   "source": [
    "def is_even(number: int) -> bool: #어노테이션을 사용하여 매개변수는 int 반환값은 bool로 지정\n",
    "    if number % 2 == 0:  \n",
    "        return True\n",
    "    return False #짝수가 아닌경우 조기리턴\n",
    "\n",
    "num = int(input(\"숫자를 입력하세요: \"))\n",
    "\n",
    "if is_even(num):\n",
    "    print(f\"{num}은(는) 짝수입니다.\")\n",
    "else:\n",
    "    print(f\"{num}은(는) 홀수입니다.\")"
   ]
  }
 ],
 "metadata": {
  "kernelspec": {
   "display_name": "Python 3",
   "language": "python",
   "name": "python3"
  },
  "language_info": {
   "name": "python",
   "version": "3.13.3"
  }
 },
 "nbformat": 4,
 "nbformat_minor": 2
}
