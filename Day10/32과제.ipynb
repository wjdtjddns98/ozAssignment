{
 "cells": [
  {
   "cell_type": "markdown",
   "metadata": {},
   "source": [
    "두 문자열을 받아서 긴 문자열을 반환하는 함수 longer_string을 작성하세요. 만약 두 문자열의 길이가 같다면, 첫 번째 문자열을 반환하세요."
   ]
  },
  {
   "cell_type": "code",
   "execution_count": 2,
   "metadata": {},
   "outputs": [
    {
     "name": "stdout",
     "output_type": "stream",
     "text": [
      "긴 문자열: ㅋㅋㅋㅋㅋㅋ뭐가더 길게요\n"
     ]
    }
   ],
   "source": [
    "def longer_string(str1: str, str2: str) -> str:\n",
    "    if len(str1) >= len(str2):  # 첫 번째 문자열이 더 길거나 같으면 반환\n",
    "        return str1\n",
    "    return str2  # 두 번째 문자열이 더 길면 반환\n",
    "\n",
    "str1 = input(\"첫 번째 문자열을 입력하세요: \")\n",
    "str2 = input(\"두 번째 문자열을 입력하세요: \")\n",
    "\n",
    "print(f\"긴 문자열: {longer_string(str1, str2)}\")"
   ]
  },
  {
   "cell_type": "markdown",
   "metadata": {},
   "source": []
  }
 ],
 "metadata": {
  "kernelspec": {
   "display_name": "Python 3",
   "language": "python",
   "name": "python3"
  },
  "language_info": {
   "codemirror_mode": {
    "name": "ipython",
    "version": 3
   },
   "file_extension": ".py",
   "mimetype": "text/x-python",
   "name": "python",
   "nbconvert_exporter": "python",
   "pygments_lexer": "ipython3",
   "version": "3.13.3"
  }
 },
 "nbformat": 4,
 "nbformat_minor": 2
}
