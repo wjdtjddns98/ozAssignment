{
 "cells": [
  {
   "cell_type": "markdown",
   "metadata": {},
   "source": [
    "문자열 리스트를 받아, 각 문자열의 길이를 출력하는 함수 print_lengths를 작성하세요."
   ]
  },
  {
   "cell_type": "code",
   "execution_count": 9,
   "metadata": {},
   "outputs": [
    {
     "name": "stdout",
     "output_type": "stream",
     "text": [
      "아니의 길이는 2입니다\n",
      "이런의 길이는 2입니다\n",
      "병쉰같은련이의 길이는 6입니다\n",
      "다있나의 길이는 3입니다\n"
     ]
    }
   ],
   "source": [
    "def print_lenght(user_input: list):\n",
    "    for i in user_input:\n",
    "        print(f'{i}의 길이는 {len(i)}입니다')\n",
    "\n",
    "\n",
    "user_input = input(\"문자열을 공백으로 구분해 입력해주세요:\").split()\n",
    "\n",
    "print_lenght(user_input)"
   ]
  },
  {
   "cell_type": "code",
   "execution_count": null,
   "metadata": {},
   "outputs": [],
   "source": []
  }
 ],
 "metadata": {
  "kernelspec": {
   "display_name": "Python 3",
   "language": "python",
   "name": "python3"
  },
  "language_info": {
   "codemirror_mode": {
    "name": "ipython",
    "version": 3
   },
   "file_extension": ".py",
   "mimetype": "text/x-python",
   "name": "python",
   "nbconvert_exporter": "python",
   "pygments_lexer": "ipython3",
   "version": "3.13.3"
  }
 },
 "nbformat": 4,
 "nbformat_minor": 2
}
