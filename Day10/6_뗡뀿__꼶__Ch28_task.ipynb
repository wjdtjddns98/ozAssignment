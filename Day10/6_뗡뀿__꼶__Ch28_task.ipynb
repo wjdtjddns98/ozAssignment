{
 "cells": [
  {
   "cell_type": "markdown",
   "metadata": {},
   "source": [
    "사용자로부터 3개의 숫자를 입력받아, 이를 튜플로 만든 후 최소값과 최대값을 출력하는 함수 min_max를 작성하세요."
   ]
  },
  {
   "cell_type": "code",
   "execution_count": null,
   "metadata": {},
   "outputs": [
    {
     "name": "stdout",
     "output_type": "stream",
     "text": [
      "최소값: 1, 최대값: 3\n"
     ]
    }
   ],
   "source": [
    "def min_max(numbers: tuple) -> tuple: #타입 어노테이션을 사용하여 numbers와 반환값의 타입을 명시\n",
    "    return (min(numbers), max(numbers))\n",
    "\n",
    "num1 = int(input(\"첫번째 숫자:\"))\n",
    "num2 = int(input(\"두번째 숫자:\"))\n",
    "num3 = int(input(\"세번째 숫자:\"))\n",
    "\n",
    "# 튜플 생성 및 함수 호출\n",
    "result = min_max((num1, num2, num3))\n",
    "\n",
    "print(f\"최소값: {result[0]}, 최대값: {result[1]}\")\n",
    "\n"
   ]
  },
  {
   "cell_type": "markdown",
   "metadata": {},
   "source": []
  }
 ],
 "metadata": {
  "kernelspec": {
   "display_name": "Python 3",
   "language": "python",
   "name": "python3"
  },
  "language_info": {
   "codemirror_mode": {
    "name": "ipython",
    "version": 3
   },
   "file_extension": ".py",
   "mimetype": "text/x-python",
   "name": "python",
   "nbconvert_exporter": "python",
   "pygments_lexer": "ipython3",
   "version": "3.13.3"
  }
 },
 "nbformat": 4,
 "nbformat_minor": 2
}
