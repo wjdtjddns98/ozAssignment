{
 "cells": [
  {
   "cell_type": "markdown",
   "metadata": {},
   "source": [
    "사용자로부터 이름과 나이를 입력 받아, \"안녕하세요, [이름]님! 당신은 [나이]살입니다.\"라고 출력하는 함수 greet_user를 작성하세요."
   ]
  },
  {
   "cell_type": "code",
   "execution_count": 15,
   "metadata": {},
   "outputs": [
    {
     "name": "stdout",
     "output_type": "stream",
     "text": [
      "안녕하세요, 정성운님! 당신은 28살입니다.\n"
     ]
    }
   ],
   "source": [
    "def greet_user():\n",
    "    user = input(\"이름과 나이를 입력해주세요 (예: 정성운 28): \")\n",
    "    try:\n",
    "        name, age = user.split()\n",
    "        age = int(age)  # 나이를 정수로 변환\n",
    "        print(f\"안녕하세요, {name}님! 당신은 {age}살입니다.\")\n",
    "    except ValueError:\n",
    "        print(\"입력 형식이 잘못되었습니다. 이름과 나이를 공백으로 구분하여 순서대로 입력해주세요.\")\n",
    "\n",
    "greet_user()"
   ]
  },
  {
   "cell_type": "code",
   "execution_count": null,
   "metadata": {},
   "outputs": [],
   "source": []
  }
 ],
 "metadata": {
  "kernelspec": {
   "display_name": "Python 3",
   "language": "python",
   "name": "python3"
  },
  "language_info": {
   "codemirror_mode": {
    "name": "ipython",
    "version": 3
   },
   "file_extension": ".py",
   "mimetype": "text/x-python",
   "name": "python",
   "nbconvert_exporter": "python",
   "pygments_lexer": "ipython3",
   "version": "3.13.3"
  }
 },
 "nbformat": 4,
 "nbformat_minor": 2
}
