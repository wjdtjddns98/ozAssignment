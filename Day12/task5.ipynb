{
 "cells": [
  {
   "metadata": {},
   "cell_type": "markdown",
   "source": [
    "[문제]\n",
    "\n",
    "'Account' 클래스를 작성하세요. \n",
    "\n",
    "이 클래스는 소유자(owner)와 잔액(balance)을 속성으로 가지며, 잔액은 프라이빗 변수로 선언합니다. \n",
    "\n",
    "'deposit'와 'withdraw' 두 개의 메소드를 통해 잔액을 조작할 수 있도록 하세요. \n",
    "\n",
    "이 때, 잔액은 음수가 될 수 없도록 체크해야 합니다. 'Account' 객체를 생성하고,<br>\n",
    "입금 및 출금 작업을 시뮬레이션한 후, 최종 잔액을 출력하세요."
   ]
  },
  {
   "metadata": {
    "ExecuteTime": {
     "end_time": "2025-04-27T12:51:15.122021Z",
     "start_time": "2025-04-27T12:51:15.118484Z"
    }
   },
   "cell_type": "code",
   "source": [
    "class Account:\n",
    "    def __init__(self, owner, balance):\n",
    "        self.owner = owner\n",
    "        self.__balance = balance             # 프라이빗 변수\n",
    "\n",
    "    def deposit(self, amount):\n",
    "        if amount > 0:\n",
    "            self.__balance += amount\n",
    "            print(f\"{amount:,}원이 입금되었습니다\")\n",
    "        else:\n",
    "            print(\"입금액은 0 원 이상이어야 합니다\")\n",
    "\n",
    "    def withdraw(self, amount):\n",
    "        if amount > self.__balance:\n",
    "            print(\"잔액이 부족하여 출금할수 없습니다\")\n",
    "        elif amount <= 0:\n",
    "            print(\"출금액은 0원 이상이어야 합니다\")\n",
    "        else:\n",
    "            self.__balance -= amount\n",
    "            print(f\"{amount:,}원이 정상출금 되었습니다\")\n",
    "    def get_balance(self):\n",
    "        return self.__balance\n",
    "\n",
    "account = Account(\"정성운\", 500000000)\n",
    "\n",
    "account.deposit(100000000) #잔액입금\n",
    "account.withdraw(400000000) #잔액내 출금\n",
    "account.withdraw(100000000000) #초과출금\n",
    "\n",
    "\n",
    "print(f\"{account.owner}님의 잔액 : {account.get_balance():,}원\")"
   ],
   "outputs": [
    {
     "name": "stdout",
     "output_type": "stream",
     "text": [
      "100,000,000원이 입금되었습니다\n",
      "400,000,000원이 정상출금 되었습니다\n",
      "잔액이 부족하여 출금할수 없습니다\n",
      "정성운님의 잔액 : 200,000,000원\n"
     ]
    }
   ],
   "execution_count": 3
  },
  {
   "metadata": {},
   "cell_type": "code",
   "outputs": [],
   "execution_count": null,
   "source": ""
  }
 ],
 "metadata": {
  "language_info": {
   "name": "python"
  }
 },
 "nbformat": 4,
 "nbformat_minor": 2
}
