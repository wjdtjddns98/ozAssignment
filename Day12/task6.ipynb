{
 "cells": [
  {
   "cell_type": "markdown",
   "metadata": {},
   "source": [
    "[문제] \n",
    "\n",
    "'Vehicle'이라는 기본 클래스를 선언하세요. \n",
    "\n",
    "이 클래스는 make (제조사)와 model (모델명) 두 개의 속성을 갖고, 생성자(__init__)를 통해 이 두 속성을 초기화합니다. 'display_info'라는 메소드를 추가하여, \"이 차량은 [make]에서 제조한 [model]입니다.\"라는 메시지를 반환하도록 하세요.\n",
    "\n",
    "'Truck'과 'Car' 두 개의 하위 클래스를 생성하고, 각 클래스는 'Vehicle' 클래스로부터 상속받습니다. \n",
    "\n",
    "'Truck' 클래스에는 추가로 'payload' (적재량) 속성을, 'Car' 클래스에는 'seats' (좌석 수) 속성을 추가합니다. 각각의 하위 클래스에서 'display_info' 메소드는 기본 클래스의 메소드를 그대로 사용합니다.\n",
    "\n",
    "'Truck'과 'Car' 객체 각각을 생성하고, 'display_info' 메소드를 호출하여 정보를 출력하세요. \n",
    "\n",
    "또한, 각 객체의 추가 속성(적재량, 좌석 수)에 대한 정보도 출력하세요.\n",
    "\n",
    "이 문제는 클래스의 상속 개념을 이해하고, 기본 클래스의 속성과 메소드를 하위 클래스가 어떻게 활용할 수 있는지 보여줍니다. \n",
    "\n",
    "오버라이드는 필요하지 않으며, 각 하위 클래스의 고유한 속성을 추가하는 방법에 초점을 맞춥니다."
   ]
  },
  {
   "metadata": {
    "ExecuteTime": {
     "end_time": "2025-04-27T12:52:30.302241Z",
     "start_time": "2025-04-27T12:52:30.298171Z"
    }
   },
   "cell_type": "code",
   "source": [
    "# 기본 클래스\n",
    "class Vehicle:\n",
    "    def __init__(self, make, model):\n",
    "        self.make = make\n",
    "        self.model = model\n",
    "\n",
    "    def display_info(self):\n",
    "        return f\"이 차량은 {self.make}에서 제조한 {self.model}입니다.\"\n",
    "\n",
    "# Truck 클래스 (Vehicle 상속)\n",
    "class Truck(Vehicle):\n",
    "    def __init__(self, make, model, payload):\n",
    "        super().__init__(make, model)\n",
    "        self.payload = payload  # 추가 속성: 적재량\n",
    "\n",
    "# Car 클래스 (Vehicle 상속)\n",
    "class Car(Vehicle):\n",
    "    def __init__(self, make, model, seats):\n",
    "        super().__init__(make, model)\n",
    "        self.seats = seats  # 추가 속성: 좌석 수\n",
    "\n",
    "# Truck 객체 생성\n",
    "truck = Truck(\"쉐보레\", \"픽업트럭\", 15000)\n",
    "\n",
    "# Car 객체 생성\n",
    "car = Car(\"페라리\", \"엔초\", 5)\n",
    "\n",
    "# Truck 정보 출력\n",
    "print(truck.display_info())\n",
    "print(f\"적재량: {truck.payload}kg\")\n",
    "\n",
    "# Car 정보 출력\n",
    "print(car.display_info())\n",
    "print(f\"좌석 수: {car.seats}개\")"
   ],
   "outputs": [
    {
     "name": "stdout",
     "output_type": "stream",
     "text": [
      "이 차량은 쉐보레에서 제조한 픽업트럭입니다.\n",
      "적재량: 15000kg\n",
      "이 차량은 페라리에서 제조한 엔초입니다.\n",
      "좌석 수: 5개\n"
     ]
    }
   ],
   "execution_count": 1
  },
  {
   "metadata": {},
   "cell_type": "code",
   "outputs": [],
   "execution_count": null,
   "source": ""
  }
 ],
 "metadata": {
  "language_info": {
   "name": "python"
  }
 },
 "nbformat": 4,
 "nbformat_minor": 2
}
