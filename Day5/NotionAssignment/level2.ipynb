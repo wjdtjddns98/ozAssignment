{
 "cells": [
  {
   "cell_type": "markdown",
   "metadata": {
    "id": "WXEwMsfUct7U"
   },
   "source": [
    "안녕하세요.<br><br>\n",
    "수강생 여러분~! \n",
    "\n",
    "\"Challenge : 사칙연산을 이용해 문제 풀기\"는 잘 풀어보셨나요?\n",
    "\n",
    "\n",
    "너~~무 어려웠어요! 하는 분들을 위해 만들어봤습니다!\n",
    "\n",
    "문제 도장깨기 !!!!!\n",
    "\n",
    "차근차근 풀어나가면 파이썬 정복 가능입니다!\n",
    "\n",
    "화이팅 !\n",
    "\n",
    "\n",
    "Chapter04의 수업 내용을 바탕으로 아래 문제를 풀어주시면 됩니다.\n",
    "\n",
    "<br>\n",
    "\n",
    "[**답변 입력 방법**]\n",
    "\n",
    "문제 아래에 있는 코드 입력창에 정답코드를 작성하신 후  __▷ 버튼을 클릭해 코드를 실행__ 해보세요<br>\n",
    "<br>"
   ]
  },
  {
   "cell_type": "markdown",
   "metadata": {
    "id": "qoyC9wF-3hvs"
   },
   "source": [
    "-----"
   ]
  },
  {
   "cell_type": "markdown",
   "metadata": {},
   "source": [
    "<br>\n",
    "\n",
    "__[문제1]__\n",
    "\n",
    "한 주머니에 사탕이 5개씩 들어있습니다. \n",
    "\n",
    "바리바리스타인 나에게는 3개의 주머니가 있습니다! \n",
    "\n",
    "근데 길가다가 사탕을 주웠습니다. 그래서 사탕 3개가 주머니에 더 추가되었습니다. \n",
    "\n",
    "최종적으로 주머니에 들어있는 사탕의 총 개수는 얼마인가요?\n",
    "\n",
    "<br>"
   ]
  },
  {
   "cell_type": "code",
   "execution_count": 2,
   "metadata": {},
   "outputs": [
    {
     "name": "stdout",
     "output_type": "stream",
     "text": [
      "총 가진 사탕 갯수:  18 개\n"
     ]
    }
   ],
   "source": [
    "candyNum = 5\n",
    "poketNum = 3\n",
    "pickNum = 3\n",
    "totalCandyNum = (candyNum * poketNum) + pickNum\n",
    "print(\"총 가진 사탕 갯수: \", totalCandyNum, \"개\")"
   ]
  },
  {
   "cell_type": "markdown",
   "metadata": {},
   "source": [
    "<br>\n",
    "\n",
    "__[문제2]__\n",
    "\n",
    "10명이 각자 4개의 공을 가지고 있습니다. \n",
    "\n",
    "운이 좋은 3명이 2개의 공을 더 받았습니다. \n",
    "\n",
    "10명이 가진 모든 공의 총 개수를 구하세요.\n"
   ]
  },
  {
   "cell_type": "code",
   "execution_count": 3,
   "metadata": {},
   "outputs": [
    {
     "name": "stdout",
     "output_type": "stream",
     "text": [
      "총 가진 공 갯수:  46 개\n"
     ]
    }
   ],
   "source": [
    "peopleNum = 10\n",
    "ballNum = 4\n",
    "totalBallNum = (peopleNum * ballNum)+(3*2)\n",
    "print(\"총 가진 공 갯수: \", totalBallNum, \"개\")"
   ]
  },
  {
   "cell_type": "markdown",
   "metadata": {},
   "source": [
    "<br>\n",
    "\n",
    "__[문제3]__\n",
    "\n",
    "5명의 학생이 3시간씩 공부했습니다. \n",
    "\n",
    "이상한 강박관념이 있는 나는 모든 시간을 분으로 계산하고 싶습니다.\n",
    "\n",
    "대신 계산해주세요 ! \n"
   ]
  },
  {
   "cell_type": "code",
   "execution_count": 4,
   "metadata": {
    "id": "74wtVQFFc_h1"
   },
   "outputs": [
    {
     "name": "stdout",
     "output_type": "stream",
     "text": [
      "총 공부 시간:  900 분\n"
     ]
    }
   ],
   "source": [
    "studentnum = 5\n",
    "studytime = 3\n",
    "totalStudytime = (studentnum * studytime)*60\n",
    "print(\"총 공부 시간: \", totalStudytime, \"분\")"
   ]
  },
  {
   "cell_type": "markdown",
   "metadata": {},
   "source": [
    "<br>\n",
    "\n",
    "__[문제4]__\n",
    "\n",
    "차가 9리터의 연료를 가지고 있습니다. \n",
    "\n",
    "연료가 3일 동안 계속 줄어들며, 하루에 2리터씩 소비됩니다. \n",
    "\n",
    "3일 뒤 차에 남은 연료는 몇 리터인가요?"
   ]
  },
  {
   "cell_type": "code",
   "execution_count": 5,
   "metadata": {
    "id": "9kvBxa6PdhgA"
   },
   "outputs": [
    {
     "name": "stdout",
     "output_type": "stream",
     "text": [
      "남은 연료:  3 L\n"
     ]
    }
   ],
   "source": [
    "feul = 9\n",
    "consumption = 2\n",
    "day = 3\n",
    "leftfeul = feul - (consumption*day)\n",
    "print(\"남은 연료: \", leftfeul, \"L\")"
   ]
  },
  {
   "cell_type": "markdown",
   "metadata": {
    "id": "2Jte2VLKdiPm"
   },
   "source": [
    "__[문제5]__\n",
    "\n",
    "어떤 정사각형의 넓이가 144cm²입니다. \n",
    "\n",
    "정사각형의 한 변의 길이를 구하세요.\n"
   ]
  },
  {
   "cell_type": "code",
   "execution_count": 6,
   "metadata": {},
   "outputs": [
    {
     "name": "stdout",
     "output_type": "stream",
     "text": [
      "정사각형의 한 변의 길이:  12.0 cm\n"
     ]
    }
   ],
   "source": [
    "area = 144\n",
    "length = area ** (1/2)\n",
    "print(\"정사각형의 한 변의 길이: \", length, \"cm\")"
   ]
  }
 ],
 "metadata": {
  "colab": {
   "authorship_tag": "ABX9TyM3gebHvdgzn1rFsPHWTyo9",
   "provenance": []
  },
  "kernelspec": {
   "display_name": "Python 3",
   "name": "python3"
  },
  "language_info": {
   "codemirror_mode": {
    "name": "ipython",
    "version": 3
   },
   "file_extension": ".py",
   "mimetype": "text/x-python",
   "name": "python",
   "nbconvert_exporter": "python",
   "pygments_lexer": "ipython3",
   "version": "3.13.3"
  }
 },
 "nbformat": 4,
 "nbformat_minor": 0
}
