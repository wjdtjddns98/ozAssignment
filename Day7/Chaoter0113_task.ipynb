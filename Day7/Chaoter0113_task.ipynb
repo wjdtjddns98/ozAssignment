{
 "cells": [
  {
   "cell_type": "markdown",
   "metadata": {
    "id": "fD4Qab2qYgOm"
   },
   "source": [
    "안녕하세요. 수강생 여러분~! \n",
    "\n",
    "Chapter01 ~ 13의 수업 내용을 바탕으로 아래 문제를 풀어주시면 됩니다 !\n",
    "\n",
    "지금까지 잘 해오셨으니까, 총 복습한다고 생각하시고 한번 도전해보세요 !!!\n",
    "\n",
    "\n",
    "<br>\n",
    "\n",
    "\n",
    "[**답변 입력 방법**]\n",
    "\n",
    "문제 아래에 있는 코드 입력창에 정답코드를 작성하신 후  __▷ 버튼을 클릭해 코드를 실행__ 해보세요<br>"
   ]
  },
  {
   "cell_type": "markdown",
   "metadata": {},
   "source": [
    "---"
   ]
  },
  {
   "cell_type": "markdown",
   "metadata": {},
   "source": [
    "### 프로젝트: 간단한 ATM 관리 시스템\n",
    "<br>\n",
    "\n",
    "__[문제 1: 잔액 확인]__\n",
    "\n",
    "현재 잔액은 1000원입니다. 현재 잔액을 출력하세요. \n",
    "\n",
    "(변수명 예시 : 잔액 - balance)"
   ]
  },
  {
   "cell_type": "code",
   "execution_count": null,
   "metadata": {},
   "outputs": [
    {
     "name": "stdout",
     "output_type": "stream",
     "text": [
      "현재 잔액 : 0\n"
     ]
    }
   ],
   "source": [
    "balance = 1000\n",
    "\n",
    "\n",
    "print(f\"현재 잔액 : {balance}\")"
   ]
  },
  {
   "cell_type": "markdown",
   "metadata": {},
   "source": [
    "__[문제 2: 입금]__\n",
    "\n",
    "가지고 있는 돈을 입금합니다.\n",
    "\n",
    "입금 금액을 입력받고, 잔액을 갱신한 후 새로운 잔액을 출력하세요. 입금 거래를 영수증 리스트에 기록하세요.\n",
    "\n",
    "- 입금 금액은 input()을 이용해 받습니다.\n",
    "- 영수증은 list()로 선언합니다.\n",
    "- 영수증에 들어가는 정보는 튜플 형태입니다.\n",
    "- 튜플에 담기는 정보는 (입금 or 출금, 입금 or 출금 금액, 현재 잔액)순 입니다.\n",
    "\n",
    "(변수명 예시: 영수증 리스트 - receipts, 입금 금액 - deposit_amount)\n"
   ]
  },
  {
   "cell_type": "code",
   "execution_count": 80,
   "metadata": {},
   "outputs": [
    {
     "name": "stdout",
     "output_type": "stream",
     "text": [
      "입금 후 잔액 : 99,890,990,099,110,009,998\n"
     ]
    }
   ],
   "source": [
    "receipts = []\n",
    "deposit_amount = int(input(\"입금 금액\")) # int input으로 입금액은 int값으로 선언\n",
    "balance += deposit_amount #입금액을 잔액에 더함\n",
    "receipts.append((\"입금\",deposit_amount, balance)) #입금액을 receipts에 추가\n",
    "\n",
    "print(f\"입금 후 잔액 : {balance:,}\") #입금 후 잔액 출력"
   ]
  },
  {
   "cell_type": "markdown",
   "metadata": {},
   "source": [
    "__[문제 3: 출금]__\n",
    "\n",
    "사용자가 돈을 출금합니다. 출금 금액을 입력받고, 잔액을 갱신한 후 새로운 잔액을 출력하세요. 출금 거래를 영수증 리스트에 기록하세요. \n",
    "\n",
    "- 출금 금액은 input()을 이용해 받습니다.\n",
    "- 현재 잔액보다 출금 요청 금액이 많을 경우 현재 잔액 만큼만 출금되도록 합니다.\n",
    "- 영수증에 들어가는 정보는 튜플 형태입니다.\n",
    "- 튜플에 담기는 정보는 (입금 or 출금, 입금 or 출금 금액, 현재 잔액)순 입니다.\n",
    "\n",
    "(변수명 예시: 출금금액 - withdraw_amount)"
   ]
  },
  {
   "cell_type": "code",
   "execution_count": 77,
   "metadata": {},
   "outputs": [
    {
     "name": "stdout",
     "output_type": "stream",
     "text": [
      "출금 후 잔액 : 99,890,989,999,000,009,998\n"
     ]
    }
   ],
   "source": [
    "withdraw_amount = int(input('출금 금액을 입력해주세요'))\n",
    "balance -= withdraw_amount #출금액을 잔액에서 뺌\n",
    "if balance < 0: #잔액이 0보다 작으면\n",
    "    print(\"잔액이 부족합니다\")\n",
    "    balance += withdraw_amount #잔액이 부족하면 출금액을 다시 더함\n",
    "else:\n",
    "    receipts.append((\"출금\", withdraw_amount, balance))\n",
    "    print(f\"출금 후 잔액 : {balance:,}\")\n",
    "\n"
   ]
  },
  {
   "cell_type": "markdown",
   "metadata": {},
   "source": [
    "__[문제 4: 모든 거래 내역 확인]__\n",
    "\n",
    "모든 거래 내역(영수증)을 요청받았을 때 출력하세요.\n",
    "- 지금까지 영수증에 추가된 정보를 출력합니다.\n",
    "- 출력 형태는 자유입니다."
   ]
  },
  {
   "cell_type": "code",
   "execution_count": 81,
   "metadata": {},
   "outputs": [
    {
     "name": "stdout",
     "output_type": "stream",
     "text": [
      "모든 거래 내역:\n",
      "거래 유형: 입금, 금액: 10,000,000원, 잔액: 99,890,990,099,110,009,998원\n"
     ]
    }
   ],
   "source": [
    "print(\"모든 거래 내역:\")\n",
    "for receipt in receipts:\n",
    "    type, amount, current = receipt\n",
    "    print(f\"거래 유형: {type}, 금액: {amount:,}원, 잔액: {current:,}원\")"
   ]
  }
 ],
 "metadata": {
  "colab": {
   "authorship_tag": "ABX9TyOA/CeX7CUdbTKFxV0fsocV",
   "provenance": []
  },
  "kernelspec": {
   "display_name": "Python 3",
   "name": "python3"
  },
  "language_info": {
   "codemirror_mode": {
    "name": "ipython",
    "version": 3
   },
   "file_extension": ".py",
   "mimetype": "text/x-python",
   "name": "python",
   "nbconvert_exporter": "python",
   "pygments_lexer": "ipython3",
   "version": "3.13.3"
  }
 },
 "nbformat": 4,
 "nbformat_minor": 0
}
